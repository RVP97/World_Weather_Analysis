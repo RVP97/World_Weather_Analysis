{
 "cells": [
  {
   "cell_type": "code",
   "execution_count": 125,
   "metadata": {},
   "outputs": [],
   "source": [
    "import pandas as pd\n",
    "import matplotlib.pyplot as plt\n",
    "import numpy as np\n",
    "from citipy import citipy"
   ]
  },
  {
   "cell_type": "code",
   "execution_count": 126,
   "metadata": {},
   "outputs": [],
   "source": [
    "lats = np.random.uniform(-90, 90, 1500)\n",
    "lngs = np.random.uniform(-180, 180, 1500)\n",
    "lat_lngs = list(zip(lats, lngs))"
   ]
  },
  {
   "cell_type": "code",
   "execution_count": 127,
   "metadata": {},
   "outputs": [],
   "source": [
    "cities = []\n",
    "for lat, lon in lat_lngs:\n",
    "    city = citipy.nearest_city(latitude=lat, longitude=lon).city_name\n",
    "    if city not in cities:\n",
    "        cities.append(city)"
   ]
  }
 ],
 "metadata": {
  "kernelspec": {
   "display_name": "Python 3.7.13 ('PythonData')",
   "language": "python",
   "name": "python3"
  },
  "language_info": {
   "codemirror_mode": {
    "name": "ipython",
    "version": 3
   },
   "file_extension": ".py",
   "mimetype": "text/x-python",
   "name": "python",
   "nbconvert_exporter": "python",
   "pygments_lexer": "ipython3",
   "version": "3.7.13"
  },
  "orig_nbformat": 4,
  "vscode": {
   "interpreter": {
    "hash": "1997b66380cc8a1a0da7bc219b5d15396c1dc5dc314c1fd90ca16f49b783acd4"
   }
  }
 },
 "nbformat": 4,
 "nbformat_minor": 2
}
